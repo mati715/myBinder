{
 "cells": [
  {
   "cell_type": "code",
   "execution_count": null,
   "metadata": {},
   "outputs": [],
   "source": [
    "from collections import Counter\n",
    "string = \"This is my home\"\n",
    "word = Counter()\n",
    "words = string.split()\n",
    "word.update(words)\n",
    "\n",
    "print(word)"
   ]
  }
 ],
 "metadata": {
  "kernelspec": {
   "display_name": "Python 3.10.7 64-bit (microsoft store)",
   "language": "python",
   "name": "python3"
  },
  "language_info": {
   "name": "python",
   "version": "3.10.7"
  },
  "orig_nbformat": 4,
  "vscode": {
   "interpreter": {
    "hash": "ca9a115054207d2797d1b78f16e1bfbf4323fc9a87b54d9e455f876acde93457"
   }
  }
 },
 "nbformat": 4,
 "nbformat_minor": 2
}
